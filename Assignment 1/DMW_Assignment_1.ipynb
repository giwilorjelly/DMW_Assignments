{
 "cells": [
  {
   "cell_type": "markdown",
   "metadata": {
    "id": "9YsAH36epufx"
   },
   "source": [
    "Written by Giwil Gidwani (BE-A 24)\n",
    "\n",
    "# Question 1\n",
    "\n",
    "From sklearn.datasets load digits dataset and do following:\n",
    "1. Classify digits (0 to 9) using KNN classifier. You can use different\n",
    "values for k neighbors and need to figure out a value of K that gives\n",
    "you a maximum score. You can manually try different values of K or\n",
    "use gridsearchcv\n",
    "2. Plot confusion matrix\n",
    "3. Plot classification report"
   ]
  },
  {
   "cell_type": "code",
   "execution_count": null,
   "metadata": {
    "id": "3O-nX18CVHzy"
   },
   "outputs": [],
   "source": [
    "import matplotlib.pyplot as plt\n",
    "from sklearn.datasets import fetch_openml\n",
    "import pandas as pd\n",
    "import time\n",
    "import numpy as np\n",
    "\n",
    "%matplotlib inline"
   ]
  },
  {
   "cell_type": "code",
   "execution_count": null,
   "metadata": {
    "colab": {
     "base_uri": "https://localhost:8080/"
    },
    "id": "-EOWyizcVHz3",
    "outputId": "754b21ba-51a9-4d46-ee6d-0395f8de50db"
   },
   "outputs": [
    {
     "name": "stdout",
     "output_type": "stream",
     "text": [
      "X_raw (70000, 784)\n",
      "y (70000,)\n"
     ]
    }
   ],
   "source": [
    "#fetching data\n",
    "X_raw, y = fetch_openml('mnist_784', version=1, as_frame=False, return_X_y=True)\n",
    "print(\"X_raw\",X_raw.shape)\n",
    "print(\"y\",y.shape)"
   ]
  },
  {
   "cell_type": "code",
   "execution_count": null,
   "metadata": {
    "colab": {
     "base_uri": "https://localhost:8080/",
     "height": 298
    },
    "id": "LTruZVKVVHz5",
    "outputId": "75d0e1e9-5e8e-48ac-c403-8d63b041eb71"
   },
   "outputs": [
    {
     "data": {
      "text/plain": [
       "Text(0.5, 1.0, '4')"
      ]
     },
     "execution_count": 62,
     "metadata": {},
     "output_type": "execute_result"
    },
    {
     "data": {
      "image/png": "[encoded data removed]",
      "text/plain": [
       "<Figure size 432x288 with 1 Axes>"
      ]
     },
     "metadata": {
      "needs_background": "light"
     },
     "output_type": "display_data"
    }
   ],
   "source": [
    "#plotting a sample\n",
    "sample = X_raw[2].reshape(28,28)\n",
    "plt.imshow(sample)\n",
    "plt.title(y[2])"
   ]
  },
  {
   "cell_type": "code",
   "execution_count": null,
   "metadata": {
    "id": "M4M3CdVAVHz6"
   },
   "outputs": [],
   "source": [
    "#standardizing dataset\n",
    "X = X_raw/255"
   ]
  },
  {
   "cell_type": "code",
   "execution_count": null,
   "metadata": {
    "colab": {
     "base_uri": "https://localhost:8080/"
    },
    "id": "_fIXKqzlVHz6",
    "outputId": "50d05829-318d-4be0-b92f-70354f7288e3"
   },
   "outputs": [
    {
     "name": "stdout",
     "output_type": "stream",
     "text": [
      "X_train (65000, 784) y_train (65000,)\n",
      "X_test (5000, 784) y_test (5000,)\n"
     ]
    }
   ],
   "source": [
    "n_train = 65000\n",
    "n_test = 5000\n",
    "\n",
    "X_train, y_train = X[:n_train], y[:n_train]\n",
    "X_test, y_test = X[n_train:], y[n_train:]\n",
    "\n",
    "print(\"X_train\",X_train.shape,\"y_train\",y_train.shape)\n",
    "print(\"X_test\",X_test.shape,\"y_test\",y_test.shape)"
   ]
  },
  {
   "cell_type": "code",
   "execution_count": null,
   "metadata": {
    "id": "gzC4HTTdVHz7"
   },
   "outputs": [],
   "source": [
    "X_train_df = pd.DataFrame(X_train)\n",
    "X_test_df = pd.DataFrame(X_test)\n",
    "y_train_df = pd.DataFrame(y_train)\n",
    "y_test_df = pd.DataFrame(y_test)"
   ]
  },
  {
   "cell_type": "code",
   "execution_count": null,
   "metadata": {
    "id": "qLeTg-M5VHz7"
   },
   "outputs": [],
   "source": [
    "from sklearn.neighbors import KNeighborsClassifier\n",
    "from sklearn.metrics import accuracy_score\n",
    "\n",
    "def get_classifier(n):\n",
    "    knn = KNeighborsClassifier(algorithm='auto', n_neighbors=n)\n",
    "    knn.fit(X_train_df,y_train_df)\n",
    "    return knn\n",
    "\n",
    "def get_metric(classifier):\n",
    "    y_pred = classifier.predict(X_test_df)\n",
    "    return accuracy_score(y_test_df,y_pred)"
   ]
  },
  {
   "cell_type": "code",
   "execution_count": null,
   "metadata": {
    "colab": {
     "base_uri": "https://localhost:8080/"
    },
    "id": "-saJmRfKY4-M",
    "outputId": "974c2352-1c0f-4539-cc41-3bc4220cbb9c",
    "scrolled": false
   },
   "outputs": [],
   "source": [
    "neighbors = []\n",
    "accuracy = []\n",
    "\n",
    "for i in range(1,100):\n",
    "  k = get_classifier(i)\n",
    "  m = get_metric(k)\n",
    "  neighbors.append(i)\n",
    "  accuracy.append(m)\n"
   ]
  },
  {
   "cell_type": "code",
   "execution_count": null,
   "metadata": {
    "colab": {
     "base_uri": "https://localhost:8080/"
    },
    "id": "Vx9PRtlyZ-WN",
    "outputId": "8252b451-0211-44d9-f1c8-88c5d379c0cf"
   },
   "outputs": [
    {
     "name": "stdout",
     "output_type": "stream",
     "text": [
      "[1, 2, 3, 4, 5, 6, 7, 8, 9, 10, 11, 12, 13, 14, 15, 16, 17, 18, 19, 20, 21, 22, 23, 24, 25, 26, 27, 28, 29, 30, 31, 32, 33, 34, 35, 36, 37, 38, 39, 40, 41, 42, 43, 44, 45, 46, 47, 48, 49, 50, 51, 52, 53, 54, 55, 56, 57, 58, 59, 60, 61, 62, 63, 64, 65, 66, 67, 68, 69, 70, 71, 72, 73, 74, 75, 76, 77, 78, 79, 80, 81, 82, 83, 84, 85, 86, 87, 88, 89, 90, 91, 92, 93, 94, 95, 96, 97, 98, 99]\n",
      "[0.9834, 0.9812, 0.985, 0.9828, 0.9836, 0.9832, 0.9844, 0.9818, 0.9824, 0.9814, 0.9832, 0.9818, 0.9818, 0.9812, 0.9816, 0.9798, 0.98, 0.9798, 0.98, 0.9794, 0.9794, 0.9788, 0.9798, 0.978, 0.9792, 0.9788, 0.9788, 0.9778, 0.978, 0.9772, 0.9774, 0.9764, 0.9766, 0.9756, 0.9758, 0.9752, 0.9758, 0.9756, 0.9756, 0.9754, 0.9752, 0.9752, 0.9748, 0.9746, 0.975, 0.9744, 0.9742, 0.9736, 0.973, 0.973, 0.973, 0.9726, 0.9724, 0.9726, 0.972, 0.972, 0.9724, 0.9716, 0.9726, 0.9716, 0.9718, 0.9716, 0.9712, 0.971, 0.9708, 0.9708, 0.971, 0.971, 0.9708, 0.9712, 0.9704, 0.9708, 0.971, 0.9712, 0.9702, 0.97, 0.9698, 0.9696, 0.9692, 0.9694, 0.9694, 0.9692, 0.9694, 0.9692, 0.9694, 0.9692, 0.9692, 0.969, 0.969, 0.9686, 0.9684, 0.9678, 0.9678, 0.9682, 0.967, 0.9674, 0.9674, 0.9676, 0.9674]\n"
     ]
    }
   ],
   "source": [
    "print(neighbors)\n",
    "print(accuracy)"
   ]
  },
  {
   "cell_type": "code",
   "execution_count": null,
   "metadata": {
    "id": "U1oxEV-KqHT_"
   },
   "outputs": [],
   "source": [
    "#copied to avoid re-execution\n",
    "neighbors = [1, 2, 3, 4, 5, 6, 7, 8, 9, 10, 11, 12, 13, 14, 15, 16, 17, 18, 19, 20, 21, 22, 23, 24, 25, 26, 27, 28, 29, 30, 31, 32, 33, 34, 35, 36, 37, 38, 39, 40, 41, 42, 43, 44, 45, 46, 47, 48, 49, 50, 51, 52, 53, 54, 55, 56, 57, 58, 59, 60, 61, 62, 63, 64, 65, 66, 67, 68, 69, 70, 71, 72, 73, 74, 75, 76, 77, 78, 79, 80, 81, 82, 83, 84, 85, 86, 87, 88, 89, 90, 91, 92, 93, 94, 95, 96, 97, 98, 99]\n",
    "accuracy = [0.9834, 0.9812, 0.985, 0.9828, 0.9836, 0.9832, 0.9844, 0.9818, 0.9824, 0.9814, 0.9832, 0.9818, 0.9818, 0.9812, 0.9816, 0.9798, 0.98, 0.9798, 0.98, 0.9794, 0.9794, 0.9788, 0.9798, 0.978, 0.9792, 0.9788, 0.9788, 0.9778, 0.978, 0.9772, 0.9774, 0.9764, 0.9766, 0.9756, 0.9758, 0.9752, 0.9758, 0.9756, 0.9756, 0.9754, 0.9752, 0.9752, 0.9748, 0.9746, 0.975, 0.9744, 0.9742, 0.9736, 0.973, 0.973, 0.973, 0.9726, 0.9724, 0.9726, 0.972, 0.972, 0.9724, 0.9716, 0.9726, 0.9716, 0.9718, 0.9716, 0.9712, 0.971, 0.9708, 0.9708, 0.971, 0.971, 0.9708, 0.9712, 0.9704, 0.9708, 0.971, 0.9712, 0.9702, 0.97, 0.9698, 0.9696, 0.9692, 0.9694, 0.9694, 0.9692, 0.9694, 0.9692, 0.9694, 0.9692, 0.9692, 0.969, 0.969, 0.9686, 0.9684, 0.9678, 0.9678, 0.9682, 0.967, 0.9674, 0.9674, 0.9676, 0.9674]"
   ]
  },
  {
   "cell_type": "code",
   "execution_count": null,
   "metadata": {
    "colab": {
     "base_uri": "https://localhost:8080/",
     "height": 297
    },
    "id": "iLuAR78CjxRs",
    "outputId": "b513e8cc-2560-4c8e-8f0f-a7298a831625"
   },
   "outputs": [
    {
     "data": {
      "text/plain": [
       "Text(0, 0.5, 'accuracy')"
      ]
     },
     "execution_count": 70,
     "metadata": {},
     "output_type": "execute_result"
    },
    {
     "data": {
      "image/png": "[encoded data removed]",
      "text/plain": [
       "<Figure size 432x288 with 1 Axes>"
      ]
     },
     "metadata": {
      "needs_background": "light"
     },
     "output_type": "display_data"
    }
   ],
   "source": [
    "plt.plot(neighbors,accuracy)\n",
    "plt.xlabel('n_neighbors')\n",
    "plt.ylabel('accuracy')"
   ]
  },
  {
   "cell_type": "markdown",
   "metadata": {
    "id": "FMA0cSd9lAAo"
   },
   "source": [
    "KNN classifier gives best results with 3 neighbors"
   ]
  },
  {
   "cell_type": "code",
   "execution_count": null,
   "metadata": {
    "colab": {
     "base_uri": "https://localhost:8080/"
    },
    "id": "pNYjigbQky8m",
    "outputId": "3296b471-afef-4bd0-c150-0644c96b2d3a"
   },
   "outputs": [
    {
     "name": "stderr",
     "output_type": "stream",
     "text": [
      "/usr/local/lib/python3.7/dist-packages/sklearn/neighbors/_classification.py:198: DataConversionWarning: A column-vector y was passed when a 1d array was expected. Please change the shape of y to (n_samples,), for example using ravel().\n",
      "  return self._fit(X, y)\n"
     ]
    },
    {
     "data": {
      "text/plain": [
       "0.985"
      ]
     },
     "execution_count": 71,
     "metadata": {},
     "output_type": "execute_result"
    }
   ],
   "source": [
    "k3 = get_classifier(3)\n",
    "get_metric(k3)"
   ]
  },
  {
   "cell_type": "markdown",
   "metadata": {
    "id": "10c6Gt1IkYTO"
   },
   "source": [
    "## Confusion Matrix"
   ]
  },
  {
   "cell_type": "code",
   "execution_count": null,
   "metadata": {
    "colab": {
     "base_uri": "https://localhost:8080/",
     "height": 351
    },
    "id": "9_8zMc-qlucg",
    "outputId": "7029b23d-3fc3-44bf-baaf-9a1e382a8a8c"
   },
   "outputs": [
    {
     "name": "stderr",
     "output_type": "stream",
     "text": [
      "/usr/local/lib/python3.7/dist-packages/sklearn/utils/deprecation.py:87: FutureWarning: Function plot_confusion_matrix is deprecated; Function `plot_confusion_matrix` is deprecated in 1.0 and will be removed in 1.2. Use one of the class methods: ConfusionMatrixDisplay.from_predictions or ConfusionMatrixDisplay.from_estimator.\n",
      "  warnings.warn(msg, category=FutureWarning)\n"
     ]
    },
    {
     "data": {
      "text/plain": [
       "<sklearn.metrics._plot.confusion_matrix.ConfusionMatrixDisplay at 0x7fc76b914250>"
      ]
     },
     "execution_count": 72,
     "metadata": {},
     "output_type": "execute_result"
    },
    {
     "data": {
      "image/png": "[encoded data removed]",
      "text/plain": [
       "<Figure size 432x288 with 2 Axes>"
      ]
     },
     "metadata": {
      "needs_background": "light"
     },
     "output_type": "display_data"
    }
   ],
   "source": [
    "from sklearn.metrics import plot_confusion_matrix\n",
    "\n",
    "plot_confusion_matrix(k3,X_test_df,y_test_df)"
   ]
  },
  {
   "cell_type": "markdown",
   "metadata": {
    "id": "nPNDFNm9kcLm"
   },
   "source": [
    "## Classification Report"
   ]
  },
  {
   "cell_type": "code",
   "execution_count": null,
   "metadata": {
    "colab": {
     "base_uri": "https://localhost:8080/"
    },
    "id": "c1y4I9NxmVhx",
    "outputId": "e62e9c17-c09a-4a2e-d8ae-99b366b380c2"
   },
   "outputs": [
    {
     "name": "stdout",
     "output_type": "stream",
     "text": [
      "              precision    recall  f1-score   support\n",
      "\n",
      "           0       0.98      0.99      0.99       520\n",
      "           1       0.98      1.00      0.99       564\n",
      "           2       0.99      0.98      0.98       502\n",
      "           3       0.99      0.97      0.98       510\n",
      "           4       0.99      0.98      0.99       482\n",
      "           5       0.97      0.98      0.98       436\n",
      "           6       0.99      1.00      0.99       496\n",
      "           7       0.98      0.98      0.98       516\n",
      "           8       0.99      0.97      0.98       485\n",
      "           9       0.98      0.98      0.98       489\n",
      "\n",
      "    accuracy                           0.98      5000\n",
      "   macro avg       0.99      0.98      0.98      5000\n",
      "weighted avg       0.99      0.98      0.98      5000\n",
      "\n"
     ]
    }
   ],
   "source": [
    "from sklearn.metrics import classification_report\n",
    "\n",
    "y_pred = k3.predict(X_test_df)\n",
    "\n",
    "print(classification_report(y_test_df,y_pred))"
   ]
  },
  {
   "cell_type": "markdown",
   "metadata": {
    "id": "4Sf7bsaxIo0Z"
   },
   "source": [
    "# Question 2\n",
    "\n",
    "Build decision tree model to predict survival based on certain parameters\n",
    "CSV file is available to download at  https://www.kaggle.com/c/titanic/data\n",
    "In this file using following columns build a model to predict if person would\n",
    "survive or not,\n",
    "1. Pclass\n",
    "2. Sex\n",
    "3. Age\n",
    "4. Fare\n",
    "\n",
    "Calculate score of your model."
   ]
  },
  {
   "cell_type": "code",
   "execution_count": 1,
   "metadata": {
    "id": "g44e4O17TWyU"
   },
   "outputs": [],
   "source": [
    "import pandas as pd"
   ]
  },
  {
   "cell_type": "code",
   "execution_count": 3,
   "metadata": {
    "id": "XvJeOuYgLQqf"
   },
   "outputs": [],
   "source": [
    "df = pd.read_csv('titanic/train.csv')\n"
   ]
  },
  {
   "cell_type": "code",
   "execution_count": 4,
   "metadata": {
    "colab": {
     "base_uri": "https://localhost:8080/",
     "height": 300
    },
    "id": "bQGnheeMRqqw",
    "outputId": "e049b04b-62bd-4f0d-e3f7-ab70b5978d31"
   },
   "outputs": [
    {
     "data": {
      "text/html": [
       "<div>\n",
       "<style scoped>\n",
       "    .dataframe tbody tr th:only-of-type {\n",
       "        vertical-align: middle;\n",
       "    }\n",
       "\n",
       "    .dataframe tbody tr th {\n",
       "        vertical-align: top;\n",
       "    }\n",
       "\n",
       "    .dataframe thead th {\n",
       "        text-align: right;\n",
       "    }\n",
       "</style>\n",
       "<table border=\"1\" class=\"dataframe\">\n",
       "  <thead>\n",
       "    <tr style=\"text-align: right;\">\n",
       "      <th></th>\n",
       "      <th>Pclass</th>\n",
       "      <th>Age</th>\n",
       "      <th>Fare</th>\n",
       "      <th>Survived</th>\n",
       "    </tr>\n",
       "  </thead>\n",
       "  <tbody>\n",
       "    <tr>\n",
       "      <th>count</th>\n",
       "      <td>891.000000</td>\n",
       "      <td>714.000000</td>\n",
       "      <td>891.000000</td>\n",
       "      <td>891.000000</td>\n",
       "    </tr>\n",
       "    <tr>\n",
       "      <th>mean</th>\n",
       "      <td>2.308642</td>\n",
       "      <td>29.699118</td>\n",
       "      <td>32.204208</td>\n",
       "      <td>0.383838</td>\n",
       "    </tr>\n",
       "    <tr>\n",
       "      <th>std</th>\n",
       "      <td>0.836071</td>\n",
       "      <td>14.526497</td>\n",
       "      <td>49.693429</td>\n",
       "      <td>0.486592</td>\n",
       "    </tr>\n",
       "    <tr>\n",
       "      <th>min</th>\n",
       "      <td>1.000000</td>\n",
       "      <td>0.420000</td>\n",
       "      <td>0.000000</td>\n",
       "      <td>0.000000</td>\n",
       "    </tr>\n",
       "    <tr>\n",
       "      <th>25%</th>\n",
       "      <td>2.000000</td>\n",
       "      <td>20.125000</td>\n",
       "      <td>7.910400</td>\n",
       "      <td>0.000000</td>\n",
       "    </tr>\n",
       "    <tr>\n",
       "      <th>50%</th>\n",
       "      <td>3.000000</td>\n",
       "      <td>28.000000</td>\n",
       "      <td>14.454200</td>\n",
       "      <td>0.000000</td>\n",
       "    </tr>\n",
       "    <tr>\n",
       "      <th>75%</th>\n",
       "      <td>3.000000</td>\n",
       "      <td>38.000000</td>\n",
       "      <td>31.000000</td>\n",
       "      <td>1.000000</td>\n",
       "    </tr>\n",
       "    <tr>\n",
       "      <th>max</th>\n",
       "      <td>3.000000</td>\n",
       "      <td>80.000000</td>\n",
       "      <td>512.329200</td>\n",
       "      <td>1.000000</td>\n",
       "    </tr>\n",
       "  </tbody>\n",
       "</table>\n",
       "</div>"
      ],
      "text/plain": [
       "           Pclass         Age        Fare    Survived\n",
       "count  891.000000  714.000000  891.000000  891.000000\n",
       "mean     2.308642   29.699118   32.204208    0.383838\n",
       "std      0.836071   14.526497   49.693429    0.486592\n",
       "min      1.000000    0.420000    0.000000    0.000000\n",
       "25%      2.000000   20.125000    7.910400    0.000000\n",
       "50%      3.000000   28.000000   14.454200    0.000000\n",
       "75%      3.000000   38.000000   31.000000    1.000000\n",
       "max      3.000000   80.000000  512.329200    1.000000"
      ]
     },
     "execution_count": 4,
     "metadata": {},
     "output_type": "execute_result"
    }
   ],
   "source": [
    "df = df[['Pclass','Sex','Age','Fare','Survived']] #using only columns specified in question\n",
    "df.describe()"
   ]
  },
  {
   "cell_type": "code",
   "execution_count": 5,
   "metadata": {
    "colab": {
     "base_uri": "https://localhost:8080/",
     "height": 300
    },
    "id": "kP2UEejLT_te",
    "outputId": "fb4aa6fe-cb5d-44f5-9aae-933643dc8276"
   },
   "outputs": [
    {
     "data": {
      "text/html": [
       "<div>\n",
       "<style scoped>\n",
       "    .dataframe tbody tr th:only-of-type {\n",
       "        vertical-align: middle;\n",
       "    }\n",
       "\n",
       "    .dataframe tbody tr th {\n",
       "        vertical-align: top;\n",
       "    }\n",
       "\n",
       "    .dataframe thead th {\n",
       "        text-align: right;\n",
       "    }\n",
       "</style>\n",
       "<table border=\"1\" class=\"dataframe\">\n",
       "  <thead>\n",
       "    <tr style=\"text-align: right;\">\n",
       "      <th></th>\n",
       "      <th>Pclass</th>\n",
       "      <th>Age</th>\n",
       "      <th>Fare</th>\n",
       "      <th>Survived</th>\n",
       "    </tr>\n",
       "  </thead>\n",
       "  <tbody>\n",
       "    <tr>\n",
       "      <th>count</th>\n",
       "      <td>714.000000</td>\n",
       "      <td>714.000000</td>\n",
       "      <td>714.000000</td>\n",
       "      <td>714.000000</td>\n",
       "    </tr>\n",
       "    <tr>\n",
       "      <th>mean</th>\n",
       "      <td>2.236695</td>\n",
       "      <td>29.699118</td>\n",
       "      <td>34.694514</td>\n",
       "      <td>0.406162</td>\n",
       "    </tr>\n",
       "    <tr>\n",
       "      <th>std</th>\n",
       "      <td>0.838250</td>\n",
       "      <td>14.526497</td>\n",
       "      <td>52.918930</td>\n",
       "      <td>0.491460</td>\n",
       "    </tr>\n",
       "    <tr>\n",
       "      <th>min</th>\n",
       "      <td>1.000000</td>\n",
       "      <td>0.420000</td>\n",
       "      <td>0.000000</td>\n",
       "      <td>0.000000</td>\n",
       "    </tr>\n",
       "    <tr>\n",
       "      <th>25%</th>\n",
       "      <td>1.000000</td>\n",
       "      <td>20.125000</td>\n",
       "      <td>8.050000</td>\n",
       "      <td>0.000000</td>\n",
       "    </tr>\n",
       "    <tr>\n",
       "      <th>50%</th>\n",
       "      <td>2.000000</td>\n",
       "      <td>28.000000</td>\n",
       "      <td>15.741700</td>\n",
       "      <td>0.000000</td>\n",
       "    </tr>\n",
       "    <tr>\n",
       "      <th>75%</th>\n",
       "      <td>3.000000</td>\n",
       "      <td>38.000000</td>\n",
       "      <td>33.375000</td>\n",
       "      <td>1.000000</td>\n",
       "    </tr>\n",
       "    <tr>\n",
       "      <th>max</th>\n",
       "      <td>3.000000</td>\n",
       "      <td>80.000000</td>\n",
       "      <td>512.329200</td>\n",
       "      <td>1.000000</td>\n",
       "    </tr>\n",
       "  </tbody>\n",
       "</table>\n",
       "</div>"
      ],
      "text/plain": [
       "           Pclass         Age        Fare    Survived\n",
       "count  714.000000  714.000000  714.000000  714.000000\n",
       "mean     2.236695   29.699118   34.694514    0.406162\n",
       "std      0.838250   14.526497   52.918930    0.491460\n",
       "min      1.000000    0.420000    0.000000    0.000000\n",
       "25%      1.000000   20.125000    8.050000    0.000000\n",
       "50%      2.000000   28.000000   15.741700    0.000000\n",
       "75%      3.000000   38.000000   33.375000    1.000000\n",
       "max      3.000000   80.000000  512.329200    1.000000"
      ]
     },
     "execution_count": 5,
     "metadata": {},
     "output_type": "execute_result"
    }
   ],
   "source": [
    "df = df.dropna() #removing rows with missing values\n",
    "df.describe()"
   ]
  },
  {
   "cell_type": "code",
   "execution_count": 6,
   "metadata": {
    "colab": {
     "base_uri": "https://localhost:8080/",
     "height": 206
    },
    "id": "UBCz7vLwTaaW",
    "outputId": "a5383756-c5ed-4914-c3be-32bf5debd339"
   },
   "outputs": [
    {
     "data": {
      "text/html": [
       "<div>\n",
       "<style scoped>\n",
       "    .dataframe tbody tr th:only-of-type {\n",
       "        vertical-align: middle;\n",
       "    }\n",
       "\n",
       "    .dataframe tbody tr th {\n",
       "        vertical-align: top;\n",
       "    }\n",
       "\n",
       "    .dataframe thead th {\n",
       "        text-align: right;\n",
       "    }\n",
       "</style>\n",
       "<table border=\"1\" class=\"dataframe\">\n",
       "  <thead>\n",
       "    <tr style=\"text-align: right;\">\n",
       "      <th></th>\n",
       "      <th>Pclass</th>\n",
       "      <th>Sex</th>\n",
       "      <th>Age</th>\n",
       "      <th>Fare</th>\n",
       "      <th>Survived</th>\n",
       "    </tr>\n",
       "  </thead>\n",
       "  <tbody>\n",
       "    <tr>\n",
       "      <th>0</th>\n",
       "      <td>3</td>\n",
       "      <td>True</td>\n",
       "      <td>22.0</td>\n",
       "      <td>7.2500</td>\n",
       "      <td>0</td>\n",
       "    </tr>\n",
       "    <tr>\n",
       "      <th>1</th>\n",
       "      <td>1</td>\n",
       "      <td>False</td>\n",
       "      <td>38.0</td>\n",
       "      <td>71.2833</td>\n",
       "      <td>1</td>\n",
       "    </tr>\n",
       "    <tr>\n",
       "      <th>2</th>\n",
       "      <td>3</td>\n",
       "      <td>False</td>\n",
       "      <td>26.0</td>\n",
       "      <td>7.9250</td>\n",
       "      <td>1</td>\n",
       "    </tr>\n",
       "    <tr>\n",
       "      <th>3</th>\n",
       "      <td>1</td>\n",
       "      <td>False</td>\n",
       "      <td>35.0</td>\n",
       "      <td>53.1000</td>\n",
       "      <td>1</td>\n",
       "    </tr>\n",
       "    <tr>\n",
       "      <th>4</th>\n",
       "      <td>3</td>\n",
       "      <td>True</td>\n",
       "      <td>35.0</td>\n",
       "      <td>8.0500</td>\n",
       "      <td>0</td>\n",
       "    </tr>\n",
       "  </tbody>\n",
       "</table>\n",
       "</div>"
      ],
      "text/plain": [
       "   Pclass    Sex   Age     Fare  Survived\n",
       "0       3   True  22.0   7.2500         0\n",
       "1       1  False  38.0  71.2833         1\n",
       "2       3  False  26.0   7.9250         1\n",
       "3       1  False  35.0  53.1000         1\n",
       "4       3   True  35.0   8.0500         0"
      ]
     },
     "execution_count": 6,
     "metadata": {},
     "output_type": "execute_result"
    }
   ],
   "source": [
    "df['Sex'] = df['Sex'].apply(lambda x: x=='male')\n",
    "\n",
    "df.head()"
   ]
  },
  {
   "cell_type": "code",
   "execution_count": 7,
   "metadata": {
    "colab": {
     "base_uri": "https://localhost:8080/"
    },
    "id": "O3Y6sE-CT-g7",
    "outputId": "6027c576-9856-471e-c411-fedc165abf74"
   },
   "outputs": [
    {
     "name": "stdout",
     "output_type": "stream",
     "text": [
      "X_train (606, 4)\n",
      "y_train (606, 1)\n",
      "X_test (108, 4)\n",
      "y_test (108, 1)\n"
     ]
    }
   ],
   "source": [
    "#we use 85% of data for training\n",
    "n_train = 606 # n_train = 0.85 * 714 = 606\n",
    "n_test = 108 # n_test = 108\n",
    "\n",
    "X = df[['Pclass','Sex','Age','Fare']]\n",
    "y = df[['Survived']]\n",
    "\n",
    "X_train = X[:n_train]\n",
    "y_train = y[:n_train]\n",
    "X_test = X[n_train:]\n",
    "y_test = y[n_train:]\n",
    "\n",
    "print('X_train',X_train.shape)\n",
    "print('y_train',y_train.shape)\n",
    "print('X_test',X_test.shape)\n",
    "print('y_test',y_test.shape)"
   ]
  },
  {
   "cell_type": "code",
   "execution_count": 8,
   "metadata": {
    "id": "hYk7qODCVHAU"
   },
   "outputs": [],
   "source": [
    "from sklearn import tree\n",
    "\n",
    "classifier = tree.DecisionTreeClassifier(random_state=42)\n",
    "classifier = classifier.fit(X_train,y_train)\n",
    "\n"
   ]
  },
  {
   "cell_type": "code",
   "execution_count": 10,
   "metadata": {
    "colab": {
     "base_uri": "https://localhost:8080/",
     "height": 35
    },
    "id": "H9ZxHjOqXKnD",
    "outputId": "1483b8ba-b001-479c-a0dc-a0b087a04fb7"
   },
   "outputs": [
    {
     "data": {
      "application/vnd.google.colaboratory.intrinsic+json": {
       "type": "string"
      },
      "text/plain": [
       "'Source.gv.pdf'"
      ]
     },
     "execution_count": 10,
     "metadata": {},
     "output_type": "execute_result"
    }
   ],
   "source": [
    "#plotting tree\n",
    "\n",
    "import graphviz\n",
    "dot_data = tree.export_graphviz(classifier, out_file=None) \n",
    "graph = graphviz.Source(dot_data) \n",
    "graph.render()\n"
   ]
  },
  {
   "cell_type": "code",
   "execution_count": 11,
   "metadata": {
    "colab": {
     "base_uri": "https://localhost:8080/"
    },
    "id": "Iy4kS6bUXvAC",
    "outputId": "5a19b1a0-21ce-4d79-ae68-5765864c667d"
   },
   "outputs": [
    {
     "name": "stdout",
     "output_type": "stream",
     "text": [
      "accuracy score: 0.8425925925925926\n"
     ]
    }
   ],
   "source": [
    "from sklearn.metrics import accuracy_score\n",
    "\n",
    "y_pred = classifier.predict(X_test)\n",
    "\n",
    "print('accuracy score:',accuracy_score(y_pred,y_test))"
   ]
  },
  {
   "cell_type": "markdown",
   "metadata": {
    "id": "rGw4UzjTkicN"
   },
   "source": [
    "## Confusion Matrix"
   ]
  },
  {
   "cell_type": "code",
   "execution_count": 12,
   "metadata": {
    "colab": {
     "base_uri": "https://localhost:8080/",
     "height": 351
    },
    "id": "B76Ids7ijQEs",
    "outputId": "e10dc5db-9554-4381-a937-302b44a03307"
   },
   "outputs": [
    {
     "name": "stderr",
     "output_type": "stream",
     "text": [
      "/usr/local/lib/python3.7/dist-packages/sklearn/utils/deprecation.py:87: FutureWarning: Function plot_confusion_matrix is deprecated; Function `plot_confusion_matrix` is deprecated in 1.0 and will be removed in 1.2. Use one of the class methods: ConfusionMatrixDisplay.from_predictions or ConfusionMatrixDisplay.from_estimator.\n",
      "  warnings.warn(msg, category=FutureWarning)\n"
     ]
    },
    {
     "data": {
      "text/plain": [
       "<sklearn.metrics._plot.confusion_matrix.ConfusionMatrixDisplay at 0x7ff49dbfc7d0>"
      ]
     },
     "execution_count": 12,
     "metadata": {},
     "output_type": "execute_result"
    },
    {
     "data": {
      "image/png": "[encoded data removed]",
      "text/plain": [
       "<Figure size 432x288 with 2 Axes>"
      ]
     },
     "metadata": {
      "needs_background": "light"
     },
     "output_type": "display_data"
    }
   ],
   "source": [
    "from sklearn.metrics import plot_confusion_matrix\n",
    "\n",
    "plot_confusion_matrix(classifier,X_test,y_test)"
   ]
  },
  {
   "cell_type": "markdown",
   "metadata": {
    "id": "79gNm18XklZg"
   },
   "source": [
    "## Classification Report"
   ]
  },
  {
   "cell_type": "code",
   "execution_count": 13,
   "metadata": {
    "colab": {
     "base_uri": "https://localhost:8080/"
    },
    "id": "7V5FEJH6jwB8",
    "outputId": "a7c6c4be-1745-46a9-9732-9540f8e6536c"
   },
   "outputs": [
    {
     "name": "stdout",
     "output_type": "stream",
     "text": [
      "              precision    recall  f1-score   support\n",
      "\n",
      "           0       0.89      0.84      0.86        64\n",
      "           1       0.79      0.84      0.81        44\n",
      "\n",
      "    accuracy                           0.84       108\n",
      "   macro avg       0.84      0.84      0.84       108\n",
      "weighted avg       0.85      0.84      0.84       108\n",
      "\n"
     ]
    }
   ],
   "source": [
    "from sklearn.metrics import classification_report\n",
    "\n",
    "print(classification_report(y_test,y_pred))"
   ]
  },
  {
   "cell_type": "code",
   "execution_count": null,
   "metadata": {
    "id": "rmFwDmn2kA7k"
   },
   "outputs": [],
   "source": []
  }
 ],
 "metadata": {
  "colab": {
   "collapsed_sections": [],
   "name": "DMW_Assignment_1.ipynb",
   "provenance": []
  },
  "kernelspec": {
   "display_name": "Python 3",
   "language": "python",
   "name": "python3"
  },
  "language_info": {
   "codemirror_mode": {
    "name": "ipython",
    "version": 3
   },
   "file_extension": ".py",
   "mimetype": "text/x-python",
   "name": "python",
   "nbconvert_exporter": "python",
   "pygments_lexer": "ipython3",
   "version": "3.8.5"
  }
 },
 "nbformat": 4,
 "nbformat_minor": 1
}
